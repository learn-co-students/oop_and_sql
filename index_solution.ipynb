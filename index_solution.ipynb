{
 "cells": [
  {
   "cell_type": "markdown",
   "metadata": {},
   "source": [
    "# OOP and SQL\n",
    "\n",
    "\n",
    "This morning we will be using Object Oriented Programming to interface with the Chinook SQL Database.  It will be a two birds one stone situation. Bird one: Understanding of OOP; Bird two: SQL Practice."
   ]
  },
  {
   "cell_type": "markdown",
   "metadata": {},
   "source": [
    "Check out the entity relationship diagram below of the Chinook Database. The Chinook Database is a sample database created with data from the apple store [info](https://docs.yugabyte.com/latest/sample-data/chinook/) \n",
    "![Chinook Schema](images/schema.png)"
   ]
  },
  {
   "cell_type": "markdown",
   "metadata": {},
   "source": [
    "We will use the sqlite3 package, which will connect to the database file stored in the data folder."
   ]
  },
  {
   "cell_type": "code",
   "execution_count": 1,
   "metadata": {
    "ExecuteTime": {
     "end_time": "2020-06-22T21:08:18.455343Z",
     "start_time": "2020-06-22T21:08:18.446764Z"
    }
   },
   "outputs": [],
   "source": [
    "# SQL Connection and Querying\n",
    "import sqlite3\n",
    "# Data manipulation\n",
    "import pandas as pd\n",
    "# os is used to create paths to files\n",
    "import os\n",
    "# For testing code\n",
    "from test_scripts.test_class import Test\n",
    "test = Test()"
   ]
  },
  {
   "cell_type": "markdown",
   "metadata": {},
   "source": [
    "We want to build a ```Chinook``` class that will allow us to easily access information in our database without having to write sql queries every time. We can do this with *attributes* and *methods*."
   ]
  },
  {
   "cell_type": "markdown",
   "metadata": {},
   "source": [
    "In the cell below describe the difference between an attribute and a method."
   ]
  },
  {
   "cell_type": "markdown",
   "metadata": {},
   "source": [
    "-------Use this markdown cell to describe the difference between attributes and methods---------"
   ]
  },
  {
   "cell_type": "markdown",
   "metadata": {},
   "source": [
    "Our class should have an attribute called ```tables``` that returns a list of tables within the database.\n",
    "\n",
    "<u><b>Let's review the code for collecting this information.</b></u>\n",
    "\n",
    "To collect the table names from a sqlite database, we can do the following:"
   ]
  },
  {
   "cell_type": "markdown",
   "metadata": {},
   "source": [
    "### 1) Open up a connection to our database"
   ]
  },
  {
   "cell_type": "code",
   "execution_count": 2,
   "metadata": {
    "ExecuteTime": {
     "end_time": "2020-06-22T20:51:08.981398Z",
     "start_time": "2020-06-22T20:51:08.978393Z"
    }
   },
   "outputs": [],
   "source": [
    "path = os.path.join('data', 'chinook.db')\n",
    "conn = sqlite3.connect(path)"
   ]
  },
  {
   "cell_type": "markdown",
   "metadata": {},
   "source": [
    "### 2) Create a cursor for our database\n",
    ">Note: A cursor does not need to be created when using ```pd.read_sql```\n",
    "\n",
    ">But depending on the use case for your code, pandas is not always the best choice!"
   ]
  },
  {
   "cell_type": "code",
   "execution_count": 3,
   "metadata": {
    "ExecuteTime": {
     "end_time": "2020-06-22T20:55:02.468691Z",
     "start_time": "2020-06-22T20:55:02.466045Z"
    }
   },
   "outputs": [],
   "source": [
    "cursor = conn.cursor()"
   ]
  },
  {
   "cell_type": "markdown",
   "metadata": {},
   "source": [
    "### 3) Execute a sql query\n",
    "sqlite_master is a table in all sqlite databases which describes the database schema."
   ]
  },
  {
   "cell_type": "code",
   "execution_count": 4,
   "metadata": {
    "ExecuteTime": {
     "end_time": "2020-06-22T20:55:55.977289Z",
     "start_time": "2020-06-22T20:55:55.972494Z"
    }
   },
   "outputs": [
    {
     "data": {
      "text/plain": [
       "[('albums',),\n",
       " ('artists',),\n",
       " ('customers',),\n",
       " ('employees',),\n",
       " ('genres',),\n",
       " ('invoices',),\n",
       " ('invoice_items',),\n",
       " ('media_types',),\n",
       " ('playlists',),\n",
       " ('playlist_track',),\n",
       " ('tracks',)]"
      ]
     },
     "execution_count": 4,
     "metadata": {},
     "output_type": "execute_result"
    }
   ],
   "source": [
    "# This query should job your memory about how SQL syntax\n",
    "cursor.execute('''SELECT name FROM sqlite_master\n",
    "                                        WHERE\n",
    "                                        type = 'table'\n",
    "                                        AND\n",
    "                                        name NOT LIKE 'sqlite_%';''').fetchall()"
   ]
  },
  {
   "cell_type": "markdown",
   "metadata": {},
   "source": [
    "As you can see this returns a list of tuples. \n",
    "\n",
    "<u>For convenience, we will use list comprehension to change this to a basic list.</u>"
   ]
  },
  {
   "cell_type": "code",
   "execution_count": 5,
   "metadata": {
    "ExecuteTime": {
     "end_time": "2020-06-22T21:00:59.730384Z",
     "start_time": "2020-06-22T21:00:59.723649Z"
    }
   },
   "outputs": [
    {
     "data": {
      "text/plain": [
       "['albums',\n",
       " 'artists',\n",
       " 'customers',\n",
       " 'employees',\n",
       " 'genres',\n",
       " 'invoices',\n",
       " 'invoice_items',\n",
       " 'media_types',\n",
       " 'playlists',\n",
       " 'playlist_track',\n",
       " 'tracks']"
      ]
     },
     "execution_count": 5,
     "metadata": {},
     "output_type": "execute_result"
    }
   ],
   "source": [
    "# NOT LIKE 'sqlite_%' ignores sqlite_sequence and sqlite_stat1 tables\n",
    "tables = cursor.execute('''SELECT name FROM sqlite_master\n",
    "                                        WHERE\n",
    "                                        type = 'table'\n",
    "                                         AND\n",
    "                                        name NOT LIKE 'sqlite_%'\n",
    "                                       ;''').fetchall()\n",
    "\n",
    "tables = [table[0] for table in tables]\n",
    "tables"
   ]
  },
  {
   "cell_type": "markdown",
   "metadata": {},
   "source": [
    "**Much better**"
   ]
  },
  {
   "cell_type": "markdown",
   "metadata": {},
   "source": [
    "# Task 1"
   ]
  },
  {
   "cell_type": "markdown",
   "metadata": {},
   "source": [
    "In the cell below, let's create a class called ```Chinook```.\n",
    "\n",
    "The class should have an ```__init__()``` method.\n",
    "\n",
    ">Hint: *methods* are just functions inside classes with ```self``` as the first argument of the function.\n",
    "\n",
    ">**Example:** \n",
    "\n",
    "```class NameOfClass():\n",
    "    def name_of_method(self, other_arguments_if_needed):\n",
    "        code here\n",
    "```\n",
    "        \n",
    "\n",
    "The ```__init__()``` method should have two arguments:\n",
    "1. ```self```\n",
    "2. ```database_path```\n",
    "\n",
    "Within the ```__init__()``` method:\n",
    "1. A connection should be opened up to the database using the ```database_path``` variable and saved as a attribute.\n",
    "2. A cursor attribute should be created.\n",
    "3. A tables attribute should be created. \n",
    "\n",
    "The code to create the  ```tables``` attribute will be almost identical to the code up above. \n",
    "\n",
    "The main difference is that the final tables variable should look like this: ```self.tables```."
   ]
  },
  {
   "cell_type": "markdown",
   "metadata": {},
   "source": [
    "##  Take 5 minutes with a partner."
   ]
  },
  {
   "cell_type": "code",
   "execution_count": 6,
   "metadata": {
    "ExecuteTime": {
     "end_time": "2020-06-22T21:44:32.581152Z",
     "start_time": "2020-06-22T21:44:32.577543Z"
    }
   },
   "outputs": [],
   "source": [
    "# Your code here\n",
    "class Chinook():\n",
    "    def __init__():\n",
    "        pass"
   ]
  },
  {
   "cell_type": "code",
   "execution_count": 7,
   "metadata": {},
   "outputs": [],
   "source": [
    "#__SOLUTION__\n",
    "class Chinook():\n",
    "    def __init__(self, database_path):\n",
    "        self.conn = sqlite3.connect(database_path)\n",
    "        self.cursor = self.conn.cursor()\n",
    "\n",
    "        tables = self.cursor.execute('''SELECT name FROM sqlite_master\n",
    "                                        WHERE\n",
    "                                        type = 'table'\n",
    "                                        AND\n",
    "                                        name NOT LIKE 'sqlite_%';''').fetchall()\n",
    "        self.tables = [x[0] for x in tables]\n"
   ]
  },
  {
   "cell_type": "markdown",
   "metadata": {},
   "source": [
    "**Let's test your class!**"
   ]
  },
  {
   "cell_type": "code",
   "execution_count": 8,
   "metadata": {
    "ExecuteTime": {
     "end_time": "2020-06-22T21:32:23.022613Z",
     "start_time": "2020-06-22T21:32:22.928896Z"
    }
   },
   "outputs": [
    {
     "data": {
      "text/markdown": [
       "✅ **Hey, you did it.  Good job.**"
      ],
      "text/plain": [
       "<IPython.core.display.Markdown object>"
      ]
     },
     "metadata": {},
     "output_type": "display_data"
    }
   ],
   "source": [
    "path = os.path.join('data', 'chinook.db')\n",
    "data = Chinook(path)\n",
    "test.run_test(data.tables, 'tables')"
   ]
  },
  {
   "cell_type": "markdown",
   "metadata": {},
   "source": [
    "# Task 2"
   ]
  },
  {
   "cell_type": "markdown",
   "metadata": {},
   "source": [
    "**Let's add a *method* to our class called ```search_employees```.**\n",
    "\n",
    "This method should use ```pd.read_sql``` to return a dataframe with a single row for the employee you search for.\n",
    "\n",
    "<u>```search_employees``` should receive three arguments.</u>\n",
    "1. ```self```\n",
    "2. The firstname of an employee.\n",
    "3. The lastname of an employee.\n",
    "\n",
    "If the employee is not found, the method should return the string ```'Employee was not found.'``` '\n",
    "\n",
    "**Hint**: Use f-strings in combination with a sql statement.  Interpolate the arguments given to the method into f-string via the curly braces { }. "
   ]
  },
  {
   "cell_type": "markdown",
   "metadata": {},
   "source": [
    "## Take 5 minutes with your partner"
   ]
  },
  {
   "cell_type": "code",
   "execution_count": 9,
   "metadata": {},
   "outputs": [],
   "source": [
    "# Your code here"
   ]
  },
  {
   "cell_type": "code",
   "execution_count": 10,
   "metadata": {},
   "outputs": [],
   "source": [
    "#__SOLUTION__\n",
    "class Chinook():\n",
    "    def __init__(self, database_path):\n",
    "        self.conn = sqlite3.connect(database_path)\n",
    "        self.cursor = self.conn.cursor()\n",
    "\n",
    "        tables = self.cursor.execute('''SELECT name FROM sqlite_master\n",
    "                                        WHERE\n",
    "                                        type = 'table'\n",
    "                                        AND\n",
    "                                        name NOT LIKE 'sqlite_%';''')\n",
    "        self.tables = [x[0] for x in tables]\n",
    "    \n",
    "    # Solution\n",
    "    def search_employee(self, firstname, lastname):\n",
    "        \n",
    "        result = pd.read_sql(f'''SELECT * FROM employees\n",
    "                    WHERE FirstName = '{firstname}'\n",
    "                    AND LastName = \"{lastname}\"\n",
    "                    ''', con = self.conn\n",
    "                    )\n",
    "\n",
    "        if len(result) == 0:\n",
    "            return \"Employee was not found.\"\n",
    "        else:\n",
    "            return result "
   ]
  },
  {
   "cell_type": "markdown",
   "metadata": {},
   "source": [
    "**Let's test your code on an existing employee!**"
   ]
  },
  {
   "cell_type": "code",
   "execution_count": 11,
   "metadata": {
    "ExecuteTime": {
     "end_time": "2020-06-22T21:27:49.449398Z",
     "start_time": "2020-06-22T21:27:49.409173Z"
    }
   },
   "outputs": [
    {
     "data": {
      "text/markdown": [
       "✅ **Hey, you did it.  Good job.**"
      ],
      "text/plain": [
       "<IPython.core.display.Markdown object>"
      ]
     },
     "metadata": {},
     "output_type": "display_data"
    }
   ],
   "source": [
    "data = Chinook(path)\n",
    "test.run_test(data.search_employee('Jane', 'Peacock'), 'employee1')"
   ]
  },
  {
   "cell_type": "markdown",
   "metadata": {},
   "source": [
    "**Now let's test on a nonexistant employee!**"
   ]
  },
  {
   "cell_type": "code",
   "execution_count": 12,
   "metadata": {
    "ExecuteTime": {
     "end_time": "2020-06-22T21:29:00.562804Z",
     "start_time": "2020-06-22T21:29:00.556374Z"
    }
   },
   "outputs": [
    {
     "data": {
      "text/markdown": [
       "✅ **Hey, you did it.  Good job.**"
      ],
      "text/plain": [
       "<IPython.core.display.Markdown object>"
      ]
     },
     "metadata": {},
     "output_type": "display_data"
    }
   ],
   "source": [
    "test.run_test(data.search_employee(\"Joe\", \"Shmo\"), 'employee2')"
   ]
  },
  {
   "cell_type": "markdown",
   "metadata": {},
   "source": [
    "# Task 3: Query Method\n",
    "\n"
   ]
  },
  {
   "cell_type": "markdown",
   "metadata": {},
   "source": [
    "Add a method called `query` that takes `self` and `query_string` as arguments.   The method should then use pd.read_sql and feed it arguments of 1) query_string 2) the connection to the database defined in the __init__ (think self). The method should return a dataframe."
   ]
  },
  {
   "cell_type": "markdown",
   "metadata": {},
   "source": [
    "## Take 5 minutes with your partner"
   ]
  },
  {
   "cell_type": "code",
   "execution_count": 13,
   "metadata": {},
   "outputs": [],
   "source": [
    "# your code here\n"
   ]
  },
  {
   "cell_type": "code",
   "execution_count": 14,
   "metadata": {},
   "outputs": [],
   "source": [
    "#__SOLUTION__\n",
    "class Chinook():\n",
    "    def __init__(self, database_path):\n",
    "        self.conn = sqlite3.connect(database_path)\n",
    "        self.cursor = self.conn.cursor()\n",
    "\n",
    "        tables = self.cursor.execute('''SELECT name FROM sqlite_master\n",
    "                                        WHERE\n",
    "                                        type = 'table'\n",
    "                                        AND\n",
    "                                        name NOT LIKE 'sqlite_%';''')\n",
    "        self.tables = [x[0] for x in tables]\n",
    "    ##### Solution to task 3\n",
    "    def query(self, query_string):\n",
    "        \n",
    "        return pd.read_sql(query_string, self.conn)\n",
    "    \n",
    "# --> Your code here <-------------\n",
    "    def search_employee(self, firstname, lastname):\n",
    "        \n",
    "        result = pd.read_sql(f'''SELECT * FROM employees\n",
    "                    WHERE FirstName = '{firstname}'\n",
    "                    AND LastName = \"{lastname}\"\n",
    "                    ''', con = self.conn\n",
    "                    )\n",
    "\n",
    "        if len(result) == 0:\n",
    "            return \"Employee was not found.\"\n",
    "        else:\n",
    "            return result \n"
   ]
  },
  {
   "cell_type": "markdown",
   "metadata": {},
   "source": [
    "# Task 4: Use the query method to find unique genres in the dataframe\n",
    "\n",
    "Write a query that selects all unique genres from the genre table ordered alphabetically. Because the `query` method uses pd.read_sql, the result should be a dataframe\n",
    "\n",
    "SQL Hint: DISTINCT"
   ]
  },
  {
   "cell_type": "markdown",
   "metadata": {},
   "source": [
    "# Take 5 minutes with your partner"
   ]
  },
  {
   "cell_type": "code",
   "execution_count": 15,
   "metadata": {},
   "outputs": [],
   "source": [
    "genre_query = '''Query here'''"
   ]
  },
  {
   "cell_type": "code",
   "execution_count": 16,
   "metadata": {},
   "outputs": [],
   "source": [
    "#__SOLUTION__\n",
    "\n",
    "genre_query = '''SELECT DISTINCT(name) as genre_name\n",
    "                FROM genres\n",
    "                ORDER BY genre_name ASC'''\n"
   ]
  },
  {
   "cell_type": "markdown",
   "metadata": {},
   "source": [
    "The next cell instantiate an instance of the class, and tests out the query using the `query` method.\n"
   ]
  },
  {
   "cell_type": "code",
   "execution_count": 17,
   "metadata": {},
   "outputs": [],
   "source": [
    "chinook = Chinook(path)\n",
    "\n",
    "genre_result = chinook.query(genre_query)"
   ]
  },
  {
   "cell_type": "code",
   "execution_count": 18,
   "metadata": {},
   "outputs": [],
   "source": [
    "assert genre_result.shape[0] == 25"
   ]
  },
  {
   "cell_type": "markdown",
   "metadata": {},
   "source": [
    "# Task 5: Genres attribute\n",
    "\n",
    "Within the __init__ method, create a `genres` attribute which is a list of all unique genres in the database. Use the same query as above, but **don't** use the query method.  Execute a sql statement in the init function using self.cursor.execute. Then, use a list comprehension to create an attribute that is a **list** of all unique genres."
   ]
  },
  {
   "cell_type": "markdown",
   "metadata": {},
   "source": [
    "## Take 5 minutes with your partner"
   ]
  },
  {
   "cell_type": "code",
   "execution_count": 19,
   "metadata": {},
   "outputs": [],
   "source": [
    "# your code here"
   ]
  },
  {
   "cell_type": "code",
   "execution_count": 20,
   "metadata": {},
   "outputs": [],
   "source": [
    "#__SOLUTION__\n",
    "class Chinook():\n",
    "    def __init__(self, database_path):\n",
    "        self.conn = sqlite3.connect(database_path)\n",
    "        self.cursor = self.conn.cursor()\n",
    "\n",
    "        tables = self.cursor.execute('''SELECT name FROM sqlite_master\n",
    "                                        WHERE\n",
    "                                        type = 'table'\n",
    "                                        AND\n",
    "                                        name NOT LIKE 'sqlite_%';''')\n",
    "        self.tables = [x[0] for x in tables]\n",
    "        \n",
    "        # Solution for task 5\n",
    "        genres = self.cursor.execute('''SELECT DISTINCT(name) as genre_name\n",
    "                                        FROM genres\n",
    "                                        ORDER BY genre_name ASC''').fetchall()\n",
    "        \n",
    "        self.genres = [genre[0] for genre in genres]\n",
    "     \n",
    "    def query(self, query_string):\n",
    "        \n",
    "        return pd.read_sql(query_string, self.conn)\n",
    "    \n",
    "    def search_employee(self, firstname, lastname):\n",
    "        \n",
    "        result = pd.read_sql(f'''SELECT * FROM employees\n",
    "                    WHERE FirstName = '{firstname}'\n",
    "                    AND LastName = \"{lastname}\"\n",
    "                    ''', con = self.conn\n",
    "                    )\n",
    "\n",
    "        if len(result) == 0:\n",
    "            return \"Employee was not found.\"\n",
    "        else:\n",
    "            return result \n"
   ]
  },
  {
   "cell_type": "code",
   "execution_count": 21,
   "metadata": {},
   "outputs": [
    {
     "name": "stdout",
     "output_type": "stream",
     "text": [
      "nice job\n"
     ]
    }
   ],
   "source": [
    "chinook = Chinook(path)\n",
    "assert type(chinook.genres==list)\n",
    "assert len(chinook.genres) == 25\n",
    "print(\"nice job\")"
   ]
  }
 ],
 "metadata": {
  "hide_input": false,
  "kernelspec": {
   "display_name": "Python 3",
   "language": "python",
   "name": "python3"
  },
  "language_info": {
   "codemirror_mode": {
    "name": "ipython",
    "version": 3
   },
   "file_extension": ".py",
   "mimetype": "text/x-python",
   "name": "python",
   "nbconvert_exporter": "python",
   "pygments_lexer": "ipython3",
   "version": "3.8.5"
  },
  "toc": {
   "base_numbering": 1,
   "nav_menu": {},
   "number_sections": false,
   "sideBar": true,
   "skip_h1_title": true,
   "title_cell": "Table of Contents",
   "title_sidebar": "Contents",
   "toc_cell": false,
   "toc_position": {},
   "toc_section_display": true,
   "toc_window_display": false
  },
  "varInspector": {
   "cols": {
    "lenName": 16,
    "lenType": 16,
    "lenVar": 40
   },
   "kernels_config": {
    "python": {
     "delete_cmd_postfix": "",
     "delete_cmd_prefix": "del ",
     "library": "var_list.py",
     "varRefreshCmd": "print(var_dic_list())"
    },
    "r": {
     "delete_cmd_postfix": ") ",
     "delete_cmd_prefix": "rm(",
     "library": "var_list.r",
     "varRefreshCmd": "cat(var_dic_list()) "
    }
   },
   "types_to_exclude": [
    "module",
    "function",
    "builtin_function_or_method",
    "instance",
    "_Feature"
   ],
   "window_display": false
  }
 },
 "nbformat": 4,
 "nbformat_minor": 4
}
